{
  "cells": [
    {
      "cell_type": "markdown",
      "metadata": {
        "id": "view-in-github",
        "colab_type": "text"
      },
      "source": [
        "<a href=\"https://colab.research.google.com/github/Abidullha/IDGCN/blob/main/IDGCN.ipynb\" target=\"_parent\"><img src=\"https://colab.research.google.com/assets/colab-badge.svg\" alt=\"Open In Colab\"/></a>"
      ]
    },
    {
      "cell_type": "code",
      "execution_count": 2,
      "metadata": {
        "colab": {
          "base_uri": "https://localhost:8080/"
        },
        "id": "44WwodihigjM",
        "outputId": "2c0219fd-d125-4c41-d893-cd732d01c934"
      },
      "outputs": [
        {
          "output_type": "stream",
          "name": "stdout",
          "text": [
            "🔁 Seed set to: 42\n",
            "✅ Torch version: 2.6.0+cu124\n",
            "✅ Device: cuda\n",
            "🚀 CUDA device name: Tesla T4\n",
            "📂 Working directory: /content\n"
          ]
        }
      ],
      "source": [
        "# ----------------------------\n",
        "# 🚦 IDGCN: Startup Cell\n",
        "# Purpose: Initialize environment, seed, and device for reproducible experiments.\n",
        "# ----------------------------\n",
        "\n",
        "import os\n",
        "import random\n",
        "import warnings\n",
        "import torch\n",
        "import numpy as np\n",
        "import pandas as pd\n",
        "import matplotlib\n",
        "\n",
        "# 📭 Suppress warnings for cleaner logs\n",
        "warnings.filterwarnings(\"ignore\")\n",
        "\n",
        "# 🎯 Set reproducible seeds\n",
        "def set_seed(seed=42):\n",
        "    print(f\"🔁 Seed set to: {seed}\")\n",
        "    random.seed(seed)\n",
        "    np.random.seed(seed)\n",
        "    torch.manual_seed(seed)\n",
        "    torch.cuda.manual_seed_all(seed)\n",
        "    torch.backends.cudnn.deterministic = True\n",
        "    torch.backends.cudnn.benchmark = False\n",
        "\n",
        "# 📌 Apply the seed\n",
        "set_seed(42)\n",
        "\n",
        "# ⚙️ Device configuration (prefer CUDA)\n",
        "device = torch.device(\"cuda\" if torch.cuda.is_available() else \"cpu\")\n",
        "\n",
        "# 🧠 Show environment details\n",
        "print(f\"✅ Torch version: {torch.__version__}\")\n",
        "print(f\"✅ Device: {device}\")\n",
        "if device.type == \"cuda\":\n",
        "    print(f\"🚀 CUDA device name: {torch.cuda.get_device_name(0)}\")\n",
        "print(f\"📂 Working directory: {os.getcwd()}\")\n",
        "\n"
      ]
    },
    {
      "cell_type": "code",
      "execution_count": 3,
      "metadata": {
        "colab": {
          "base_uri": "https://localhost:8080/"
        },
        "id": "vuwI3oAylO4X",
        "outputId": "7f56243d-40d5-4a1d-cd3f-1304115bb617"
      },
      "outputs": [
        {
          "output_type": "stream",
          "name": "stdout",
          "text": [
            "Cloning into 'IDGCN'...\n",
            "remote: Enumerating objects: 17, done.\u001b[K\n",
            "remote: Counting objects: 100% (17/17), done.\u001b[K\n",
            "remote: Compressing objects: 100% (10/10), done.\u001b[K\n",
            "remote: Total 17 (delta 1), reused 17 (delta 1), pack-reused 0 (from 0)\u001b[K\n",
            "Receiving objects: 100% (17/17), done.\n",
            "Resolving deltas: 100% (1/1), done.\n",
            "/content/IDGCN\n",
            "\u001b[2K     \u001b[90m━━━━━━━━━━━━━━━━━━━━━━━━━━━━━━━━━━━━━━━━\u001b[0m \u001b[32m63.1/63.1 kB\u001b[0m \u001b[31m6.0 MB/s\u001b[0m eta \u001b[36m0:00:00\u001b[0m\n",
            "\u001b[2K   \u001b[90m━━━━━━━━━━━━━━━━━━━━━━━━━━━━━━━━━━━━━━━━\u001b[0m \u001b[32m1.1/1.1 MB\u001b[0m \u001b[31m61.7 MB/s\u001b[0m eta \u001b[36m0:00:00\u001b[0m\n",
            "\u001b[2K   \u001b[90m━━━━━━━━━━━━━━━━━━━━━━━━━━━━━━━━━━━━━━━━\u001b[0m \u001b[32m363.4/363.4 MB\u001b[0m \u001b[31m1.2 MB/s\u001b[0m eta \u001b[36m0:00:00\u001b[0m\n",
            "\u001b[2K   \u001b[90m━━━━━━━━━━━━━━━━━━━━━━━━━━━━━━━━━━━━━━━━\u001b[0m \u001b[32m13.8/13.8 MB\u001b[0m \u001b[31m128.3 MB/s\u001b[0m eta \u001b[36m0:00:00\u001b[0m\n",
            "\u001b[2K   \u001b[90m━━━━━━━━━━━━━━━━━━━━━━━━━━━━━━━━━━━━━━━━\u001b[0m \u001b[32m24.6/24.6 MB\u001b[0m \u001b[31m98.5 MB/s\u001b[0m eta \u001b[36m0:00:00\u001b[0m\n",
            "\u001b[2K   \u001b[90m━━━━━━━━━━━━━━━━━━━━━━━━━━━━━━━━━━━━━━━━\u001b[0m \u001b[32m883.7/883.7 kB\u001b[0m \u001b[31m58.6 MB/s\u001b[0m eta \u001b[36m0:00:00\u001b[0m\n",
            "\u001b[2K   \u001b[90m━━━━━━━━━━━━━━━━━━━━━━━━━━━━━━━━━━━━━━━━\u001b[0m \u001b[32m664.8/664.8 MB\u001b[0m \u001b[31m2.2 MB/s\u001b[0m eta \u001b[36m0:00:00\u001b[0m\n",
            "\u001b[2K   \u001b[90m━━━━━━━━━━━━━━━━━━━━━━━━━━━━━━━━━━━━━━━━\u001b[0m \u001b[32m211.5/211.5 MB\u001b[0m \u001b[31m5.6 MB/s\u001b[0m eta \u001b[36m0:00:00\u001b[0m\n",
            "\u001b[2K   \u001b[90m━━━━━━━━━━━━━━━━━━━━━━━━━━━━━━━━━━━━━━━━\u001b[0m \u001b[32m56.3/56.3 MB\u001b[0m \u001b[31m14.1 MB/s\u001b[0m eta \u001b[36m0:00:00\u001b[0m\n",
            "\u001b[2K   \u001b[90m━━━━━━━━━━━━━━━━━━━━━━━━━━━━━━━━━━━━━━━━\u001b[0m \u001b[32m127.9/127.9 MB\u001b[0m \u001b[31m7.4 MB/s\u001b[0m eta \u001b[36m0:00:00\u001b[0m\n",
            "\u001b[2K   \u001b[90m━━━━━━━━━━━━━━━━━━━━━━━━━━━━━━━━━━━━━━━━\u001b[0m \u001b[32m207.5/207.5 MB\u001b[0m \u001b[31m6.2 MB/s\u001b[0m eta \u001b[36m0:00:00\u001b[0m\n",
            "\u001b[2K   \u001b[90m━━━━━━━━━━━━━━━━━━━━━━━━━━━━━━━━━━━━━━━━\u001b[0m \u001b[32m21.1/21.1 MB\u001b[0m \u001b[31m43.3 MB/s\u001b[0m eta \u001b[36m0:00:00\u001b[0m\n",
            "\u001b[?25h✅ torch version: 2.6.0+cu124\n",
            "✅ pandas version: 2.2.2\n",
            "✅ numpy version: 2.0.2\n",
            "✅ wandb version: 0.21.0\n",
            "🎯 All dependencies installed and verified.\n"
          ]
        }
      ],
      "source": [
        "# ----------------------------\n",
        "# 📦 IDGCN: Repo & Dependency Setup\n",
        "# Purpose: Clone repo, install dependencies, and verify setup for high-reproducibility\n",
        "# ----------------------------\n",
        "\n",
        "# 1. ✅ Clone the GitHub repository\n",
        "!git clone https://github.com/Abidullha/IDGCN.git\n",
        "%cd IDGCN\n",
        "\n",
        "# 2. 📦 Install core dependencies and experiment tracking tools\n",
        "!pip install torch-geometric --quiet\n",
        "!pip install numpy pandas matplotlib seaborn scikit-learn pyyaml wandb --quiet\n",
        "\n",
        "# 3. 🔁 (Optional) Install from project-specific requirements.txt\n",
        "!pip install -r requirements.txt --quiet\n",
        "\n",
        "# 4. ✅ Import and confirm versions\n",
        "import torch\n",
        "import pandas as pd\n",
        "import numpy as np\n",
        "import wandb\n",
        "\n",
        "print(f\"✅ torch version: {torch.__version__}\")\n",
        "print(f\"✅ pandas version: {pd.__version__}\")\n",
        "print(f\"✅ numpy version: {np.__version__}\")\n",
        "print(f\"✅ wandb version: {wandb.__version__}\")\n",
        "print(\"🎯 All dependencies installed and verified.\")\n"
      ]
    },
    {
      "cell_type": "code",
      "execution_count": null,
      "metadata": {
        "colab": {
          "base_uri": "https://localhost:8080/",
          "height": 220
        },
        "id": "eXdKhvKoBaS9",
        "outputId": "7d7ed596-32eb-494a-8a3c-98f9a2506978"
      },
      "outputs": [
        {
          "data": {
            "application/javascript": [
              "\n",
              "        window._wandbApiKey = new Promise((resolve, reject) => {\n",
              "            function loadScript(url) {\n",
              "            return new Promise(function(resolve, reject) {\n",
              "                let newScript = document.createElement(\"script\");\n",
              "                newScript.onerror = reject;\n",
              "                newScript.onload = resolve;\n",
              "                document.body.appendChild(newScript);\n",
              "                newScript.src = url;\n",
              "            });\n",
              "            }\n",
              "            loadScript(\"https://cdn.jsdelivr.net/npm/postmate/build/postmate.min.js\").then(() => {\n",
              "            const iframe = document.createElement('iframe')\n",
              "            iframe.style.cssText = \"width:0;height:0;border:none\"\n",
              "            document.body.appendChild(iframe)\n",
              "            const handshake = new Postmate({\n",
              "                container: iframe,\n",
              "                url: 'https://wandb.ai/authorize'\n",
              "            });\n",
              "            const timeout = setTimeout(() => reject(\"Couldn't auto authenticate\"), 5000)\n",
              "            handshake.then(function(child) {\n",
              "                child.on('authorize', data => {\n",
              "                    clearTimeout(timeout)\n",
              "                    resolve(data)\n",
              "                });\n",
              "            });\n",
              "            })\n",
              "        });\n",
              "    "
            ],
            "text/plain": [
              "<IPython.core.display.Javascript object>"
            ]
          },
          "metadata": {},
          "output_type": "display_data"
        },
        {
          "name": "stderr",
          "output_type": "stream",
          "text": [
            "\u001b[34m\u001b[1mwandb\u001b[0m: Logging into wandb.ai. (Learn how to deploy a W&B server locally: https://wandb.me/wandb-server)\n",
            "\u001b[34m\u001b[1mwandb\u001b[0m: You can find your API key in your browser here: https://wandb.ai/authorize\n",
            "wandb: Paste an API key from your profile and hit enter:"
          ]
        },
        {
          "name": "stdout",
          "output_type": "stream",
          "text": [
            " ··········\n"
          ]
        },
        {
          "name": "stderr",
          "output_type": "stream",
          "text": [
            "\u001b[34m\u001b[1mwandb\u001b[0m: \u001b[33mWARNING\u001b[0m If you're specifying your api key in code, ensure this code is not shared publicly.\n",
            "\u001b[34m\u001b[1mwandb\u001b[0m: \u001b[33mWARNING\u001b[0m Consider setting the WANDB_API_KEY environment variable, or running `wandb login` from the command line.\n",
            "\u001b[34m\u001b[1mwandb\u001b[0m: No netrc file found, creating one.\n",
            "\u001b[34m\u001b[1mwandb\u001b[0m: Appending key for api.wandb.ai to your netrc file: /root/.netrc\n",
            "\u001b[34m\u001b[1mwandb\u001b[0m: Currently logged in as: \u001b[33mabidullahadel111\u001b[0m (\u001b[33mabidullahadel111-hunan-university-library\u001b[0m) to \u001b[32mhttps://api.wandb.ai\u001b[0m. Use \u001b[1m`wandb login --relogin`\u001b[0m to force relogin\n"
          ]
        },
        {
          "data": {
            "text/plain": [
              "True"
            ]
          },
          "execution_count": 3,
          "metadata": {},
          "output_type": "execute_result"
        }
      ],
      "source": [
        "# 🔑 WandB Login\n",
        "# Purpose: Authenticate with your WandB account to enable experiment logging\n",
        "# ----------------------------\n",
        "import wandb\n",
        "wandb.login()  # You'll be prompted to paste your API key here\n"
      ]
    },
    {
      "cell_type": "markdown",
      "metadata": {
        "id": "rC6VTU6gtAXy"
      },
      "source": [
        "# Phase 1\n",
        "## Step 1 🔗 Dataset Setup (METR-LA)\n",
        "Only METR-LA dataset will be used for training and evaluation at this stage.  \n",
        "This cell ensures the dataset exists and prints file structure for confirmation.\n"
      ]
    },
    {
      "cell_type": "code",
      "execution_count": 4,
      "metadata": {
        "colab": {
          "base_uri": "https://localhost:8080/"
        },
        "id": "PUW46gZ3tDX3",
        "outputId": "953165bb-a939-4eb7-dfcb-be0e4aa12898"
      },
      "outputs": [
        {
          "output_type": "stream",
          "name": "stdout",
          "text": [
            "Mounted at /content/drive\n",
            "✅ METR-LA dataset copied to: /content/IDGCN/data/raw/METR-LA\n",
            "📂 Files copied: ['.ipynb_checkpoints', 'metr_ids.txt', 'metr-la.h5', 'W_metrla.csv', 'distances_la_2012.csv', 'adj_mx.pkl', 'SE_metrla.txt', 'graph_sensor_locations.csv']\n"
          ]
        }
      ],
      "source": [
        "# ----------------------------\n",
        "# 📁 Phase 1 - Step 1: Mount Google Drive & Copy METR-LA Dataset\n",
        "# ----------------------------\n",
        "\n",
        "from google.colab import drive\n",
        "import os\n",
        "import shutil\n",
        "\n",
        "# 🔌 Mount Google Drive\n",
        "drive.mount('/content/drive')\n",
        "\n",
        "# 📍 Define source and target paths\n",
        "source_dir = \"/content/drive/MyDrive/ReX-GNN/data/METR-LA\"\n",
        "target_dir = \"/content/IDGCN/data/raw/METR-LA\"\n",
        "\n",
        "# 🛠️ Create local target directory if it doesn't exist\n",
        "os.makedirs(target_dir, exist_ok=True)\n",
        "\n",
        "# 📦 Copy dataset if available\n",
        "if os.path.exists(source_dir):\n",
        "    # Copy using native Python\n",
        "    !cp -r \"{source_dir}/.\" \"{target_dir}/\"\n",
        "    print(f\"✅ METR-LA dataset copied to: {target_dir}\")\n",
        "\n",
        "    # 🔍 Show contents of the target directory\n",
        "    files = os.listdir(target_dir)\n",
        "    print(f\"📂 Files copied: {files}\")\n",
        "else:\n",
        "    print(f\"❌ Dataset not found at: {source_dir}\")\n"
      ]
    },
    {
      "cell_type": "markdown",
      "metadata": {
        "id": "x67hvkwDwC-2"
      },
      "source": [
        "## 📦 Step 2 — Load Raw METR-LA Data Only\n",
        "🧠 Purpose: Load the original .npz traffic speed matrix from METR-LA (before normalization or processing)."
      ]
    },
    {
      "cell_type": "code",
      "execution_count": 5,
      "metadata": {
        "colab": {
          "base_uri": "https://localhost:8080/"
        },
        "id": "2hxGWRhR1_6I",
        "outputId": "0e54c162-2f50-406f-ea32-74f7d8d607e4"
      },
      "outputs": [
        {
          "output_type": "stream",
          "name": "stdout",
          "text": [
            "✅ Keys in metr-la.h5: ['df']\n"
          ]
        }
      ],
      "source": [
        "# step 2.1 Load Raw METR-LA data only\n",
        "# Run this to see the dataset keys\n",
        "import h5py\n",
        "\n",
        "with h5py.File(\"/content/IDGCN/data/raw/METR-LA/metr-la.h5\", 'r') as f:\n",
        "    print(\"✅ Keys in metr-la.h5:\", list(f.keys()))\n",
        "\n"
      ]
    },
    {
      "cell_type": "code",
      "execution_count": 6,
      "metadata": {
        "colab": {
          "base_uri": "https://localhost:8080/"
        },
        "id": "xhOB4uuF2yfQ",
        "outputId": "2fd87e4b-ed95-40f6-d25a-b554997b8f0a"
      },
      "outputs": [
        {
          "output_type": "stream",
          "name": "stdout",
          "text": [
            "📁 Keys inside 'df': ['axis0', 'axis1', 'block0_items', 'block0_values']\n",
            " - axis0 → shape: (207,), dtype: |S6\n",
            " - axis1 → shape: (34272,), dtype: int64\n",
            " - block0_items → shape: (207,), dtype: |S6\n",
            " - block0_values → shape: (34272, 207), dtype: float64\n"
          ]
        }
      ],
      "source": [
        "# ----------------------------\n",
        "# 🔍 Phase 1 - Step 2.2: Inspect HDF5 Structure\n",
        "# Purpose: Explore internal structure of metr-la.h5\n",
        "# ----------------------------\n",
        "\n",
        "import h5py\n",
        "\n",
        "data_path = \"/content/IDGCN/data/raw/METR-LA/metr-la.h5\"\n",
        "\n",
        "# Open HDF5 file and list what's inside the 'df' group\n",
        "with h5py.File(data_path, 'r') as f:\n",
        "    df_group = f['df']\n",
        "    print(\"📁 Keys inside 'df':\", list(df_group.keys()))\n",
        "    for key in df_group.keys():\n",
        "        print(f\" - {key} → shape: {df_group[key].shape}, dtype: {df_group[key].dtype}\")\n"
      ]
    },
    {
      "cell_type": "code",
      "execution_count": 7,
      "metadata": {
        "colab": {
          "base_uri": "https://localhost:8080/"
        },
        "id": "ZfdbV4h8v-5z",
        "outputId": "31defaa7-10d5-44c4-da7c-60dbeba4852e"
      },
      "outputs": [
        {
          "output_type": "stream",
          "name": "stdout",
          "text": [
            "✅ Loaded METR-LA raw traffic data.\n",
            "📐 Data shape: (34272, 207)\n"
          ]
        }
      ],
      "source": [
        "# ----------------------------\n",
        "# 📥 Phase 1 - Step 2B: Load METR-LA Traffic Matrix\n",
        "# Purpose: Extract raw traffic speed values (block0_values)\n",
        "# ----------------------------\n",
        "\n",
        "import numpy as np\n",
        "import h5py\n",
        "import os\n",
        "\n",
        "raw_data_path = \"/content/IDGCN/data/raw/METR-LA/metr-la.h5\"\n",
        "\n",
        "# Load traffic matrix: shape [34272, 207]\n",
        "if os.path.exists(raw_data_path):\n",
        "    with h5py.File(raw_data_path, 'r') as f:\n",
        "        traffic_data = f['df']['block0_values'][:]  # Load actual speed values\n",
        "    print(\"✅ Loaded METR-LA raw traffic data.\")\n",
        "    print(f\"📐 Data shape: {traffic_data.shape}\")  # Should be (34272, 207)\n",
        "else:\n",
        "    print(f\"❌ File not found at: {raw_data_path}\")\n"
      ]
    },
    {
      "cell_type": "markdown",
      "metadata": {
        "id": "fiZmmOTiwUSs"
      },
      "source": [
        "## step 3 ⚖️ Normalize Data (Z-score)\n",
        "We normalize the raw traffic data using Z-score normalization (mean 0, std 1) to help the model converge better during training."
      ]
    },
    {
      "cell_type": "code",
      "execution_count": 8,
      "metadata": {
        "colab": {
          "base_uri": "https://localhost:8080/"
        },
        "id": "65J3GZ3_wT69",
        "outputId": "62ea6b86-e9eb-4126-8502-9a3b4687e82b"
      },
      "outputs": [
        {
          "output_type": "stream",
          "name": "stdout",
          "text": [
            "✅ Normalization complete.\n",
            "📐 Normalized data shape: (34272, 207)\n",
            "📊 Mean shape: (207,), Std shape: (207,)\n"
          ]
        }
      ],
      "source": [
        "# ----------------------------\n",
        "# 🔄 Phase 1 - Step 3: Normalize Traffic Data (Z-score)\n",
        "# Purpose: Normalize each sensor's time-series using Z-score standardization\n",
        "# ----------------------------\n",
        "\n",
        "def z_score_normalize(data):\n",
        "    \"\"\"\n",
        "    Apply Z-score normalization: (X - mean) / std\n",
        "    Each sensor (column) is normalized independently.\n",
        "\n",
        "    Args:\n",
        "        data (np.ndarray): Raw traffic data, shape (T, N)\n",
        "\n",
        "    Returns:\n",
        "        norm_data (np.ndarray): Normalized data, same shape\n",
        "        mean (np.ndarray): Mean of each sensor, shape (N,)\n",
        "        std (np.ndarray): Std deviation of each sensor, shape (N,)\n",
        "    \"\"\"\n",
        "    mean = data.mean(axis=0)         # Mean over time axis (for each sensor)\n",
        "    std = data.std(axis=0)           # Std over time axis (for each sensor)\n",
        "    std[std == 0] = 1                # Prevent divide-by-zero for constant signals\n",
        "    norm_data = (data - mean) / std  # Standardize\n",
        "\n",
        "    return norm_data, mean, std\n",
        "\n",
        "# 📊 Apply normalization\n",
        "normalized_data, data_mean, data_std = z_score_normalize(traffic_data)\n",
        "\n",
        "# ✅ Verify result\n",
        "print(\"✅ Normalization complete.\")\n",
        "print(f\"📐 Normalized data shape: {normalized_data.shape}\")\n",
        "print(f\"📊 Mean shape: {data_mean.shape}, Std shape: {data_std.shape}\")\n",
        "\n"
      ]
    },
    {
      "cell_type": "markdown",
      "metadata": {
        "id": "9wWcLZ_64Lr6"
      },
      "source": [
        "## Step 4 — Create Sliding Windows for Training\n",
        "We'll turn the time-series into sequences:\n",
        "Inputs: X[t−12:t]\n",
        "Targets: Y[t:t+3]\n",
        "This creates pairs like:\n",
        "X: last 12 time steps (hour)\n",
        "Y: next 3 time steps (15 minutes ahead)"
      ]
    },
    {
      "cell_type": "code",
      "execution_count": 9,
      "metadata": {
        "colab": {
          "base_uri": "https://localhost:8080/"
        },
        "id": "nH0PZ84C4QwR",
        "outputId": "805aad11-4ab6-46b0-ab80-74bb395d183c"
      },
      "outputs": [
        {
          "output_type": "stream",
          "name": "stdout",
          "text": [
            "✅ Sliding window creation complete.\n",
            "🪟 X shape: (34258, 12, 207), Y shape: (34258, 3, 207)\n"
          ]
        }
      ],
      "source": [
        "# ----------------------------\n",
        "# 🪟 Phase 1 - Step 4: Create Sliding Windows\n",
        "# Purpose: Convert normalized time-series data into [input → target] training samples\n",
        "# ----------------------------\n",
        "\n",
        "def create_sliding_windows(data, input_len=12, output_len=3):\n",
        "    \"\"\"\n",
        "    Args:\n",
        "        data (np.ndarray): Normalized traffic speeds, shape (T, N)\n",
        "        input_len (int): Length of input window\n",
        "        output_len (int): Length of target window\n",
        "\n",
        "    Returns:\n",
        "        X (np.ndarray): Shape (num_samples, input_len, N)\n",
        "        Y (np.ndarray): Shape (num_samples, output_len, N)\n",
        "    \"\"\"\n",
        "    T, N = data.shape\n",
        "    num_samples = T - input_len - output_len + 1\n",
        "\n",
        "    X = np.zeros((num_samples, input_len, N), dtype=np.float32)\n",
        "    Y = np.zeros((num_samples, output_len, N), dtype=np.float32)\n",
        "\n",
        "    for i in range(num_samples):\n",
        "        X[i] = data[i : i + input_len]\n",
        "        Y[i] = data[i + input_len : i + input_len + output_len]\n",
        "\n",
        "    return X, Y\n",
        "\n",
        "# 🧪 Apply sliding window to normalized data\n",
        "X, Y = create_sliding_windows(normalized_data, input_len=12, output_len=3)\n",
        "\n",
        "# ✅ Confirm shapes\n",
        "print(\"✅ Sliding window creation complete.\")\n",
        "print(f\"🪟 X shape: {X.shape}, Y shape: {Y.shape}\")\n"
      ]
    },
    {
      "cell_type": "markdown",
      "metadata": {
        "id": "CAJ9FQ114lU_"
      },
      "source": [
        "## Step 5 Split Data into Train/Val/Test Sets\n",
        "We’ll now split your dataset into:\n",
        "70% training\n",
        "20% validation\n",
        "10% testing\n",
        "(based on temporal order to preserve time dependencies)"
      ]
    },
    {
      "cell_type": "code",
      "execution_count": 10,
      "metadata": {
        "colab": {
          "base_uri": "https://localhost:8080/"
        },
        "id": "Y1Ta8Gwg4p_D",
        "outputId": "56943048-edc2-4f46-b4b9-df039563d877"
      },
      "outputs": [
        {
          "output_type": "stream",
          "name": "stdout",
          "text": [
            "✅ Data split complete.\n",
            "📊 Train: (23980, 12, 207), Val: (6851, 12, 207), Test: (3427, 12, 207)\n"
          ]
        }
      ],
      "source": [
        "# ----------------------------\n",
        "# ✂️ Phase 1 - Step 5: Split Data into Train / Val / Test\n",
        "# Purpose: Chronologically split X, Y into training, validation, and test sets\n",
        "# ----------------------------\n",
        "\n",
        "# 🔢 Compute split lengths (70% train, 20% val, 10% test)\n",
        "num_samples = X.shape[0]\n",
        "train_len = int(num_samples * 0.7)\n",
        "val_len = int(num_samples * 0.2)\n",
        "test_len = num_samples - train_len - val_len\n",
        "\n",
        "# 🧪 Chronological split (no shuffle for time-series)\n",
        "X_train, Y_train = X[:train_len], Y[:train_len]\n",
        "X_val, Y_val     = X[train_len:train_len+val_len], Y[train_len:train_len+val_len]\n",
        "X_test, Y_test   = X[train_len+val_len:], Y[train_len+val_len:]\n",
        "\n",
        "# 📊 Show split sizes\n",
        "print(\"✅ Data split complete.\")\n",
        "print(f\"📊 Train: {X_train.shape}, Val: {X_val.shape}, Test: {X_test.shape}\")\n"
      ]
    },
    {
      "cell_type": "markdown",
      "metadata": {
        "id": "QmUzcShJ5Axs"
      },
      "source": [
        "## Step 6 Convert to PyTorch Dataloaders\n",
        "Next, we'll wrap our train/val/test splits in PyTorch TensorDataset and DataLoader objects for efficient training and batching.\n",
        "\n"
      ]
    },
    {
      "cell_type": "code",
      "execution_count": 11,
      "metadata": {
        "colab": {
          "base_uri": "https://localhost:8080/"
        },
        "id": "NqCviFBO5EUU",
        "outputId": "27166528-c58d-46c3-ce24-d24b89bd5466"
      },
      "outputs": [
        {
          "output_type": "stream",
          "name": "stdout",
          "text": [
            "✅ DataLoaders created.\n",
            "📦 Batch size: 64\n",
            "🔁 Batches - Train: 375, Val: 108, Test: 54\n"
          ]
        }
      ],
      "source": [
        "# ----------------------------\n",
        "# 📦 Phase 1 - Step 6: Convert to PyTorch DataLoaders\n",
        "# Purpose: Wrap (X, Y) arrays into PyTorch datasets and loaders\n",
        "# ----------------------------\n",
        "\n",
        "import torch\n",
        "from torch.utils.data import TensorDataset, DataLoader\n",
        "\n",
        "# 1. 🎯 Convert NumPy arrays to PyTorch tensors\n",
        "X_train_tensor = torch.from_numpy(X_train).float()\n",
        "Y_train_tensor = torch.from_numpy(Y_train).float()\n",
        "\n",
        "X_val_tensor = torch.from_numpy(X_val).float()\n",
        "Y_val_tensor = torch.from_numpy(Y_val).float()\n",
        "\n",
        "X_test_tensor = torch.from_numpy(X_test).float()\n",
        "Y_test_tensor = torch.from_numpy(Y_test).float()\n",
        "\n",
        "# 2. 📦 Wrap into TensorDatasets\n",
        "train_dataset = TensorDataset(X_train_tensor, Y_train_tensor)\n",
        "val_dataset   = TensorDataset(X_val_tensor, Y_val_tensor)\n",
        "test_dataset  = TensorDataset(X_test_tensor, Y_test_tensor)\n",
        "\n",
        "# 3. 🧱 Create DataLoaders (shuffle only training set)\n",
        "batch_size = 64\n",
        "train_loader = DataLoader(train_dataset, batch_size=batch_size, shuffle=True)\n",
        "val_loader   = DataLoader(val_dataset, batch_size=batch_size, shuffle=False)\n",
        "test_loader  = DataLoader(test_dataset, batch_size=batch_size, shuffle=False)\n",
        "\n",
        "# ✅ Confirm setup\n",
        "print(\"✅ DataLoaders created.\")\n",
        "print(f\"📦 Batch size: {batch_size}\")\n",
        "print(f\"🔁 Batches - Train: {len(train_loader)}, Val: {len(val_loader)}, Test: {len(test_loader)}\")\n"
      ]
    },
    {
      "cell_type": "markdown",
      "metadata": {
        "id": "UErf9oZq9xpB"
      },
      "source": [
        "## 🧭 Phase 2 Spatial Graph Processing  \n",
        "### 🔗 Objective: Prepare Adjacency Matrix for Graph Convolution\n",
        "In this phase, we process the sensor graph structure, which is essential for capturing spatial dependencies in our IDGCN model. Specifically, we:\n",
        "1. **Load** the adjacency matrix from the METR-LA dataset\n",
        "2. **Normalize** it for use in GCN layers\n",
        "3. **Convert** it to PyTorch Geometric format (`edge_index`, `edge_weight`) for training\n",
        "\n",
        "### 📂 Data Source: `adj_mx.pkl`\n",
        "- File format: Pickle\n",
        "- Source: `data/sensor_graph/adj_mx.pkl`\n",
        "- Loaded objects:\n",
        "  - `sensor_ids`: List of all sensor node IDs\n",
        "  - `sensor_id_to_ind`: Dictionary mapping each sensor ID to its index in the matrix\n",
        "  - `adj_mx`: Raw `[207 × 207]` adjacency matrix (undirected, weighted)\n",
        "\n",
        "### 🔧 Processing Steps:\n",
        "#### ✅ Step 1: Load the Adjacency Matrix\n",
        "- Use Python's `pickle` module\n",
        "- Verify matrix shape and sample entries\n",
        "#### ✅ Step 2: Normalize the Matrix\n",
        "- Use symmetric normalization:  \n",
        "  \\[\n",
        "  \\hat{A} = D^{-1/2} A D^{-1/2}\n",
        "  \\]\n",
        "- Required by most GCN-based models to stabilize training\n",
        "#### ✅ Step 3: Convert to PyTorch Geometric Format\n",
        "- From sparse matrix → `edge_index`, `edge_weight`\n",
        "- Ready to be used in `torch_geometric.nn` layers\n",
        "This prepares the **spatial graph input** for our upcoming IDGCN model in Phase 1.\n"
      ]
    },
    {
      "cell_type": "code",
      "execution_count": 12,
      "metadata": {
        "colab": {
          "base_uri": "https://localhost:8080/"
        },
        "id": "8yIeZIbX_mAA",
        "outputId": "2c44638a-62cd-47ea-cf8b-2d040ebbe92b"
      },
      "outputs": [
        {
          "output_type": "stream",
          "name": "stdout",
          "text": [
            "✅ Adjacency matrix loaded.\n",
            "📐 Shape: (207, 207), Type: <class 'numpy.ndarray'>\n",
            "🔍 Sample values:\n",
            " [[1.         0.         0.         0.         0.        ]\n",
            " [0.         1.         0.3909554  0.         0.        ]\n",
            " [0.         0.7174379  1.         0.         0.        ]\n",
            " [0.         0.         0.         1.         0.63372165]\n",
            " [0.         0.         0.         0.62646437 1.        ]]\n"
          ]
        }
      ],
      "source": [
        "# ----------------------------\n",
        "# 🌐 Phase 2 - Step 1: Load Adjacency Matrix from .pkl\n",
        "# ----------------------------\n",
        "\n",
        "import pickle\n",
        "\n",
        "# Define path to adjacency matrix file\n",
        "adj_path = \"/content/IDGCN/data/raw/METR-LA/adj_mx.pkl\"\n",
        "\n",
        "# Load adjacency matrix\n",
        "with open(adj_path, 'rb') as f:\n",
        "    sensor_ids, sensor_id_to_ind, adj_matrix = pickle.load(f, encoding='latin1')\n",
        "\n",
        "# ✅ Confirm shape and type\n",
        "print(\"✅ Adjacency matrix loaded.\")\n",
        "print(f\"📐 Shape: {adj_matrix.shape}, Type: {type(adj_matrix)}\")\n",
        "print(\"🔍 Sample values:\\n\", adj_matrix[:5, :5])\n",
        "\n"
      ]
    },
    {
      "cell_type": "code",
      "execution_count": 13,
      "metadata": {
        "colab": {
          "base_uri": "https://localhost:8080/"
        },
        "id": "-_sMNviDC7ZM",
        "outputId": "b039aad3-57f7-4d36-894f-bcfef36ea7df"
      },
      "outputs": [
        {
          "output_type": "stream",
          "name": "stdout",
          "text": [
            "✅ Adjacency matrix normalized.\n",
            "📐 Normalized shape: (207, 207)\n",
            "🔍 Sample values:\n",
            " [[0.20495804 0.         0.         0.         0.        ]\n",
            " [0.         0.2626398  0.09171008 0.         0.        ]\n",
            " [0.         0.16829614 0.20951694 0.         0.        ]\n",
            " [0.         0.         0.         0.15750106 0.09842597]\n",
            " [0.         0.         0.         0.09729882 0.15315771]]\n"
          ]
        }
      ],
      "source": [
        "# ----------------------------\n",
        "# 🔄 Phase 2 - Step 2: Symmetric Normalize Adjacency Matrix\n",
        "# ----------------------------\n",
        "\n",
        "def normalize_adj(adj):\n",
        "    \"\"\"\n",
        "    Symmetric normalization: A_hat = D^{-1/2} * A * D^{-1/2}\n",
        "    \"\"\"\n",
        "    D = np.diag(np.sum(adj, axis=1))  # Degree matrix\n",
        "    D_inv_sqrt = np.linalg.inv(np.sqrt(D))\n",
        "    A_hat = D_inv_sqrt @ adj @ D_inv_sqrt  # Symmetric normalization\n",
        "    return A_hat\n",
        "\n",
        "# Apply normalization\n",
        "normalized_adj = normalize_adj(adj_matrix)\n",
        "\n",
        "# ✅ Confirm\n",
        "print(\"✅ Adjacency matrix normalized.\")\n",
        "print(f\"📐 Normalized shape: {normalized_adj.shape}\")\n",
        "print(\"🔍 Sample values:\\n\", normalized_adj[:5, :5])"
      ]
    },
    {
      "cell_type": "code",
      "execution_count": 14,
      "metadata": {
        "colab": {
          "base_uri": "https://localhost:8080/"
        },
        "id": "sliFGdhFCA86",
        "outputId": "b29770c3-b932-4695-9737-9558a34ff3f8"
      },
      "outputs": [
        {
          "output_type": "stream",
          "name": "stdout",
          "text": [
            "✅ Converted to PyTorch Geometric format.\n",
            "🔗 edge_index shape: torch.Size([2, 1722])\n",
            "📏 edge_weight shape: torch.Size([1722])\n"
          ]
        }
      ],
      "source": [
        "# ----------------------------\n",
        "# 🔄 Phase 2 - Step 3: Convert to PyG Edge Index Format\n",
        "# ----------------------------\n",
        "\n",
        "import torch\n",
        "from torch_geometric.utils import dense_to_sparse\n",
        "\n",
        "# Convert normalized adjacency matrix (dense) to sparse COO format\n",
        "adj_tensor = torch.tensor(normalized_adj, dtype=torch.float32)\n",
        "\n",
        "# PyG utility: dense_to_sparse → (edge_index, edge_weight)\n",
        "edge_index, edge_weight = dense_to_sparse(adj_tensor)\n",
        "\n",
        "# ✅ Confirm output types and shapes\n",
        "print(\"✅ Converted to PyTorch Geometric format.\")\n",
        "print(f\"🔗 edge_index shape: {edge_index.shape}\")\n",
        "print(f\"📏 edge_weight shape: {edge_weight.shape}\")"
      ]
    },
    {
      "cell_type": "markdown",
      "metadata": {
        "id": "RuYCLG0jDaE_"
      },
      "source": [
        "# 🚀 Phase 3: IDGCN Model Architecture Design\n",
        "We now define the IDGCN model which captures both spatial and temporal dependencies in the traffic network. It integrates GCN for spatial reasoning and GRU for temporal forecasting.\n",
        "### 🔧 Define IDGCN Model Skeleton\n",
        "The model combines:\n",
        "- Spatial encoder (GCN)\n",
        "- Temporal encoder (GRU)\n",
        "- Final prediction layer\n"
      ]
    },
    {
      "cell_type": "code",
      "execution_count": 52,
      "metadata": {
        "id": "00fvcCtj2ShX"
      },
      "outputs": [],
      "source": [
        "# ----------------------------\n",
        "# 🧠 Step 1: Temporal Attention Module and IDGCN class\n",
        "# Purpose: Improve interpretability by attending over time steps\n",
        "# ----------------------------\n",
        "# ✅ Load model from src/models/idgcn.py\n",
        "from src.models.idgcn import IDGCN, TemporalAttention\n"
      ]
    },
    {
      "cell_type": "code",
      "execution_count": 56,
      "metadata": {
        "colab": {
          "base_uri": "https://localhost:8080/"
        },
        "id": "NxkWESHZHUIi",
        "outputId": "515c9664-4db4-4232-83f7-908c7fb2e603"
      },
      "outputs": [
        {
          "output_type": "stream",
          "name": "stdout",
          "text": [
            "x_dummy shape: torch.Size([4, 12, 207])\n"
          ]
        }
      ],
      "source": [
        "# ----------------------------\n",
        "# Step 2 – Output Shape Sanity Check\n",
        "# Purpose: Verify upgraded IDGCN runs forward and outputs correct shape\n",
        "# ----------------------------\n",
        "\n",
        "# 🔁 In case of runtime reset\n",
        "import torch\n",
        "device = torch.device(\"cuda\" if torch.cuda.is_available() else \"cpu\")\n",
        "\n",
        "# 📐 Dummy input on the correct device\n",
        "x_dummy = torch.randn(4, 12, 207).to(device)  # [B, T, N]\n",
        "\n",
        "\n",
        "# ✅ Ensure edge_index and edge_weight are on device\n",
        "edge_index = edge_index.to(device)\n",
        "edge_weight = edge_weight.to(device)\n",
        "\n",
        "# 🧱 Instantiate upgraded model with use_attention=True\n",
        "model = IDGCN(num_nodes=207,\n",
        "              input_len=12,\n",
        "              output_len=3,\n",
        "              hidden_dim=64,\n",
        "              edge_index=edge_index,\n",
        "              edge_weight=edge_weight,\n",
        "              use_attention=True).to(device)\n",
        "\n",
        "# 🚀 Run forward pass\n",
        "output = model(x_dummy)\n",
        "\n",
        "# ✅ Confirm output shape\n",
        "print(f\"x_dummy shape: {x_dummy.shape}\")  # Expected: [4, 12, 207]\n",
        "\n",
        "\n",
        "\n"
      ]
    },
    {
      "cell_type": "markdown",
      "metadata": {
        "id": "1WvfmF5G8jLI"
      },
      "source": [
        "## Phase 4 Model Training Pipeline"
      ]
    },
    {
      "cell_type": "markdown",
      "metadata": {
        "id": "IBfiSwDT9oHI"
      },
      "source": [
        "# ----------------------------\n",
        "# 🏁 Phase 4: IDGCN Training Loop\n",
        "# but in first step we will Define train_one_epoch()\n",
        "It should appear before your training loop, and its job is to:\n",
        "🔁 Purpose:\n",
        "Run one full pass through the training dataset and Perform:\n",
        "Forward pass\n",
        "Loss calculation\n",
        "Backpropagation\n",
        "Optimizer step\n",
        "# and Than Step 2: Define training process for 3 epochs\n",
        "# ----------------------------\n",
        "This loop:\n",
        "- Trains IDGCN over 3 full epochs\n",
        "- Computes loss on both training and validation sets\n",
        "- Uses MSE loss and Adam optimizer\n",
        "- Prints loss per epoch for monitoring"
      ]
    },
    {
      "cell_type": "code",
      "execution_count": 18,
      "metadata": {
        "id": "cTn2ZDmjr0dV"
      },
      "outputs": [],
      "source": [
        "# ----------------------------\n",
        "# 🔁 Step 1: Define train_one_epoch()\n",
        "# Purpose: Train model for one epoch using MSE loss and optimizer\n",
        "# Performs: Forward pass, Loss computation, Backpropagation, Optimizer step\n",
        "\n",
        "def train_one_epoch(model, dataloader, loss_fn, optimizer, edge_index, edge_weight, device):\n",
        "    model.train()\n",
        "    total_loss = 0\n",
        "\n",
        "    for X_batch, Y_batch in dataloader:\n",
        "        X_batch = X_batch.to(device)\n",
        "        Y_batch = Y_batch.to(device)\n",
        "\n",
        "        # Forward pass\n",
        "        preds = model(X_batch)\n",
        "        loss = loss_fn(preds, Y_batch)\n",
        "\n",
        "        # Backpropagation\n",
        "        optimizer.zero_grad()\n",
        "        loss.backward()\n",
        "        optimizer.step()\n",
        "\n",
        "        total_loss += loss.item()\n",
        "\n",
        "    return total_loss / len(dataloader)\n"
      ]
    },
    {
      "cell_type": "code",
      "execution_count": 19,
      "metadata": {
        "colab": {
          "base_uri": "https://localhost:8080/"
        },
        "id": "0-0DbQnGtyx8",
        "outputId": "26368bc1-f845-4724-803c-83c4e69e5ea0"
      },
      "outputs": [
        {
          "output_type": "stream",
          "name": "stdout",
          "text": [
            "🧼 CUDA cache cleared.\n"
          ]
        }
      ],
      "source": [
        "# ----------------------------\n",
        "# 🧹 Optional: Clear Cache Before Training (CUDA)\n",
        "# ----------------------------\n",
        "import torch\n",
        "torch.cuda.empty_cache()\n",
        "print(\"🧼 CUDA cache cleared.\")\n"
      ]
    },
    {
      "cell_type": "code",
      "execution_count": 20,
      "metadata": {
        "id": "bn0xOU_PtKOL"
      },
      "outputs": [],
      "source": [
        "# ----------------------------\n",
        "# 🧪 Step 2: Define evaluate_model()\n",
        "# Purpose: Run model on validation set without updating weights\n",
        "# ----------------------------\n",
        "\n",
        "def evaluate_model(model, dataloader, loss_fn, edge_index, edge_weight, device):\n",
        "    model.eval()\n",
        "    total_loss = 0.0\n",
        "\n",
        "    with torch.no_grad():\n",
        "        for X_batch, Y_batch in dataloader:\n",
        "            X_batch = X_batch.to(device)\n",
        "            Y_batch = Y_batch.to(device)\n",
        "\n",
        "            preds = model(X_batch)\n",
        "            loss = loss_fn(preds, Y_batch)\n",
        "\n",
        "            total_loss += loss.item()\n",
        "\n",
        "    return total_loss / len(dataloader)\n"
      ]
    },
    {
      "cell_type": "code",
      "execution_count": 21,
      "metadata": {
        "colab": {
          "base_uri": "https://localhost:8080/",
          "height": 327
        },
        "id": "Z7JvsSBwGRxW",
        "outputId": "9abf4181-b698-4e45-e1c1-a9b4b3dc4e70"
      },
      "outputs": [
        {
          "output_type": "display_data",
          "data": {
            "text/plain": [
              "<IPython.core.display.Javascript object>"
            ],
            "application/javascript": [
              "\n",
              "        window._wandbApiKey = new Promise((resolve, reject) => {\n",
              "            function loadScript(url) {\n",
              "            return new Promise(function(resolve, reject) {\n",
              "                let newScript = document.createElement(\"script\");\n",
              "                newScript.onerror = reject;\n",
              "                newScript.onload = resolve;\n",
              "                document.body.appendChild(newScript);\n",
              "                newScript.src = url;\n",
              "            });\n",
              "            }\n",
              "            loadScript(\"https://cdn.jsdelivr.net/npm/postmate/build/postmate.min.js\").then(() => {\n",
              "            const iframe = document.createElement('iframe')\n",
              "            iframe.style.cssText = \"width:0;height:0;border:none\"\n",
              "            document.body.appendChild(iframe)\n",
              "            const handshake = new Postmate({\n",
              "                container: iframe,\n",
              "                url: 'https://wandb.ai/authorize'\n",
              "            });\n",
              "            const timeout = setTimeout(() => reject(\"Couldn't auto authenticate\"), 5000)\n",
              "            handshake.then(function(child) {\n",
              "                child.on('authorize', data => {\n",
              "                    clearTimeout(timeout)\n",
              "                    resolve(data)\n",
              "                });\n",
              "            });\n",
              "            })\n",
              "        });\n",
              "    "
            ]
          },
          "metadata": {}
        },
        {
          "output_type": "stream",
          "name": "stderr",
          "text": [
            "\u001b[34m\u001b[1mwandb\u001b[0m: Logging into wandb.ai. (Learn how to deploy a W&B server locally: https://wandb.me/wandb-server)\n",
            "\u001b[34m\u001b[1mwandb\u001b[0m: You can find your API key in your browser here: https://wandb.ai/authorize?ref=models\n",
            "wandb: Paste an API key from your profile and hit enter:"
          ]
        },
        {
          "name": "stdout",
          "output_type": "stream",
          "text": [
            " ··········\n"
          ]
        },
        {
          "output_type": "stream",
          "name": "stderr",
          "text": [
            "\u001b[34m\u001b[1mwandb\u001b[0m: \u001b[33mWARNING\u001b[0m If you're specifying your api key in code, ensure this code is not shared publicly.\n",
            "\u001b[34m\u001b[1mwandb\u001b[0m: \u001b[33mWARNING\u001b[0m Consider setting the WANDB_API_KEY environment variable, or running `wandb login` from the command line.\n",
            "\u001b[34m\u001b[1mwandb\u001b[0m: No netrc file found, creating one.\n",
            "\u001b[34m\u001b[1mwandb\u001b[0m: Appending key for api.wandb.ai to your netrc file: /root/.netrc\n",
            "\u001b[34m\u001b[1mwandb\u001b[0m: Currently logged in as: \u001b[33mabidullahadel111\u001b[0m (\u001b[33mabidullahadel111-hunan-university-library\u001b[0m) to \u001b[32mhttps://api.wandb.ai\u001b[0m. Use \u001b[1m`wandb login --relogin`\u001b[0m to force relogin\n"
          ]
        },
        {
          "output_type": "display_data",
          "data": {
            "text/plain": [
              "<IPython.core.display.HTML object>"
            ],
            "text/html": [
              "Tracking run with wandb version 0.21.0"
            ]
          },
          "metadata": {}
        },
        {
          "output_type": "display_data",
          "data": {
            "text/plain": [
              "<IPython.core.display.HTML object>"
            ],
            "text/html": [
              "Run data is saved locally in <code>/content/IDGCN/wandb/run-20250724_013307-6degk6g3</code>"
            ]
          },
          "metadata": {}
        },
        {
          "output_type": "display_data",
          "data": {
            "text/plain": [
              "<IPython.core.display.HTML object>"
            ],
            "text/html": [
              "Syncing run <strong><a href='https://wandb.ai/abidullahadel111-hunan-university-library/IDGCN-METRLA/runs/6degk6g3' target=\"_blank\">IDGCN_run_3epoch_cpu</a></strong> to <a href='https://wandb.ai/abidullahadel111-hunan-university-library/IDGCN-METRLA' target=\"_blank\">Weights & Biases</a> (<a href='https://wandb.me/developer-guide' target=\"_blank\">docs</a>)<br>"
            ]
          },
          "metadata": {}
        },
        {
          "output_type": "display_data",
          "data": {
            "text/plain": [
              "<IPython.core.display.HTML object>"
            ],
            "text/html": [
              " View project at <a href='https://wandb.ai/abidullahadel111-hunan-university-library/IDGCN-METRLA' target=\"_blank\">https://wandb.ai/abidullahadel111-hunan-university-library/IDGCN-METRLA</a>"
            ]
          },
          "metadata": {}
        },
        {
          "output_type": "display_data",
          "data": {
            "text/plain": [
              "<IPython.core.display.HTML object>"
            ],
            "text/html": [
              " View run at <a href='https://wandb.ai/abidullahadel111-hunan-university-library/IDGCN-METRLA/runs/6degk6g3' target=\"_blank\">https://wandb.ai/abidullahadel111-hunan-university-library/IDGCN-METRLA/runs/6degk6g3</a>"
            ]
          },
          "metadata": {}
        },
        {
          "output_type": "execute_result",
          "data": {
            "text/html": [
              "<button onClick=\"this.nextSibling.style.display='block';this.style.display='none';\">Display W&B run</button><iframe src='https://wandb.ai/abidullahadel111-hunan-university-library/IDGCN-METRLA/runs/6degk6g3?jupyter=true' style='border:none;width:100%;height:420px;display:none;'></iframe>"
            ],
            "text/plain": [
              "<wandb.sdk.wandb_run.Run at 0x7b72cc304450>"
            ]
          },
          "metadata": {},
          "execution_count": 21
        }
      ],
      "source": [
        "# Step 3\n",
        "# 🚀 Initialize WandB Run\n",
        "# ----------------------------\n",
        "import wandb\n",
        "\n",
        "wandb.init(\n",
        "    project=\"IDGCN-METRLA\",     # 💡 Change this if you want\n",
        "    name=\"IDGCN_run_3epoch_cpu\",  # Optional: experiment name\n",
        "    config={\n",
        "        \"model\": \"IDGCN\",\n",
        "        \"dataset\": \"METR-LA\",\n",
        "        \"input_len\": 12,\n",
        "        \"output_len\": 3,\n",
        "        \"hidden_dim\": 64,\n",
        "        \"optimizer\": \"Adam\",\n",
        "        \"loss_fn\": \"MSE\",\n",
        "        \"lr\": 0.001,\n",
        "        \"weight_decay\": 1e-5,\n",
        "        \"batch_size\": 64,\n",
        "        \"epochs\": 3,\n",
        "        \"device\": str(device),\n",
        "    }\n",
        ")\n"
      ]
    },
    {
      "cell_type": "code",
      "execution_count": 22,
      "metadata": {
        "colab": {
          "base_uri": "https://localhost:8080/"
        },
        "id": "Nftgmjkj9zUC",
        "outputId": "bca9ef46-d621-4381-8e24-37c2a8bd2d3b"
      },
      "outputs": [
        {
          "output_type": "stream",
          "name": "stdout",
          "text": [
            "📅 Epoch 01 — 🐂 Train Loss: 0.5079 | 🧪 Val Loss: 0.5752\n",
            "📅 Epoch 02 — 🐂 Train Loss: 0.4725 | 🧪 Val Loss: 0.5765\n",
            "📅 Epoch 03 — 🐂 Train Loss: 0.4691 | 🧪 Val Loss: 0.5651\n",
            "📅 Epoch 04 — 🐂 Train Loss: 0.4670 | 🧪 Val Loss: 0.5633\n",
            "📅 Epoch 05 — 🐂 Train Loss: 0.4659 | 🧪 Val Loss: 0.5639\n"
          ]
        }
      ],
      "source": [
        "# ----------------------------\n",
        "# 🏋️ Step 4: Train the IDGCN Model (3 Epochs + WandB Logging + CSV Logging)\n",
        "# ----------------------------\n",
        "\n",
        "loss_fn = nn.MSELoss()\n",
        "optimizer = torch.optim.Adam(model.parameters(), lr=0.001, weight_decay=1e-5)\n",
        "num_epochs = 5\n",
        "\n",
        "epoch_logs = []  # 📝 For CSV export\n",
        "\n",
        "for epoch in range(1, num_epochs + 1):\n",
        "    train_loss = train_one_epoch(model, train_loader, loss_fn, optimizer, edge_index, edge_weight, device)\n",
        "    val_loss = evaluate_model(model, val_loader, loss_fn, edge_index, edge_weight, device)\n",
        "\n",
        "    wandb.log({\n",
        "        \"epoch\": epoch,\n",
        "        \"train_loss\": train_loss,\n",
        "        \"val_loss\": val_loss\n",
        "    })\n",
        "\n",
        "    print(f\"📅 Epoch {epoch:02d} — 🐂 Train Loss: {train_loss:.4f} | 🧪 Val Loss: {val_loss:.4f}\")\n",
        "\n",
        "    epoch_logs.append([epoch, train_loss, val_loss])  # ✅ Added for CSV\n",
        "\n"
      ]
    },
    {
      "cell_type": "code",
      "execution_count": 23,
      "metadata": {
        "colab": {
          "base_uri": "https://localhost:8080/",
          "height": 415
        },
        "id": "gGBdbamRHh9r",
        "outputId": "e1e585b0-2b06-4ebe-bc62-00dbf44fe91c"
      },
      "outputs": [
        {
          "output_type": "display_data",
          "data": {
            "text/plain": [
              "<IPython.core.display.HTML object>"
            ],
            "text/html": []
          },
          "metadata": {}
        },
        {
          "output_type": "display_data",
          "data": {
            "text/plain": [
              "<IPython.core.display.HTML object>"
            ],
            "text/html": [
              "<br>    <style><br>        .wandb-row {<br>            display: flex;<br>            flex-direction: row;<br>            flex-wrap: wrap;<br>            justify-content: flex-start;<br>            width: 100%;<br>        }<br>        .wandb-col {<br>            display: flex;<br>            flex-direction: column;<br>            flex-basis: 100%;<br>            flex: 1;<br>            padding: 10px;<br>        }<br>    </style><br><div class=\"wandb-row\"><div class=\"wandb-col\"><h3>Run history:</h3><br/><table class=\"wandb\"><tr><td>epoch</td><td>▁▃▅▆█</td></tr><tr><td>train_loss</td><td>█▂▂▁▁</td></tr><tr><td>val_loss</td><td>▇█▂▁▁</td></tr></table><br/></div><div class=\"wandb-col\"><h3>Run summary:</h3><br/><table class=\"wandb\"><tr><td>epoch</td><td>5</td></tr><tr><td>train_loss</td><td>0.46589</td></tr><tr><td>val_loss</td><td>0.5639</td></tr></table><br/></div></div>"
            ]
          },
          "metadata": {}
        },
        {
          "output_type": "display_data",
          "data": {
            "text/plain": [
              "<IPython.core.display.HTML object>"
            ],
            "text/html": [
              " View run <strong style=\"color:#cdcd00\">IDGCN_run_3epoch_cpu</strong> at: <a href='https://wandb.ai/abidullahadel111-hunan-university-library/IDGCN-METRLA/runs/6degk6g3' target=\"_blank\">https://wandb.ai/abidullahadel111-hunan-university-library/IDGCN-METRLA/runs/6degk6g3</a><br> View project at: <a href='https://wandb.ai/abidullahadel111-hunan-university-library/IDGCN-METRLA' target=\"_blank\">https://wandb.ai/abidullahadel111-hunan-university-library/IDGCN-METRLA</a><br>Synced 5 W&B file(s), 0 media file(s), 0 artifact file(s) and 0 other file(s)"
            ]
          },
          "metadata": {}
        },
        {
          "output_type": "display_data",
          "data": {
            "text/plain": [
              "<IPython.core.display.HTML object>"
            ],
            "text/html": [
              "Find logs at: <code>./wandb/run-20250724_013307-6degk6g3/logs</code>"
            ]
          },
          "metadata": {}
        }
      ],
      "source": [
        "# ----------------------------\n",
        "# ✅ Step 5: End the WandB run\n",
        "# ----------------------------\n",
        "\n",
        "# Finalize the WandB run cleanly\n",
        "wandb.finish()\n"
      ]
    },
    {
      "cell_type": "code",
      "source": [
        "# ----------------------------\n",
        "# 💾 Save the trained model after training with attention\n",
        "# ----------------------------\n",
        "save_path = \"experiments/IDGCN_final.pth\"  # Make sure this folder exists\n",
        "torch.save(model.state_dict(), save_path)\n",
        "print(f\"✅ Trained model saved at {save_path}\")\n"
      ],
      "metadata": {
        "colab": {
          "base_uri": "https://localhost:8080/"
        },
        "id": "RzvkphwXFJRA",
        "outputId": "cb9848e9-fb31-405f-8dc9-a1ac3ec3addf"
      },
      "execution_count": 26,
      "outputs": [
        {
          "output_type": "stream",
          "name": "stdout",
          "text": [
            "✅ Trained model saved at experiments/IDGCN_final.pth\n"
          ]
        }
      ]
    },
    {
      "cell_type": "code",
      "execution_count": 24,
      "metadata": {
        "colab": {
          "base_uri": "https://localhost:8080/"
        },
        "id": "jmLXnat-GVCt",
        "outputId": "c26c0d08-fcf5-4c86-ad5e-55b3d7ac70a8"
      },
      "outputs": [
        {
          "output_type": "stream",
          "name": "stdout",
          "text": [
            "🧠 Does model use attention?: True\n",
            "🔍 model.use_attention = True\n",
            "📦 Temporal block type = <class '__main__.TemporalAttention'>\n"
          ]
        }
      ],
      "source": [
        "print(\"🧠 Does model use attention?:\", hasattr(model, \"use_attention\"))\n",
        "print(\"🔍 model.use_attention =\", model.use_attention)\n",
        "print(\"📦 Temporal block type =\", type(model.temporal))\n"
      ]
    },
    {
      "cell_type": "markdown",
      "metadata": {
        "id": "FBaIGvDMdznT"
      },
      "source": [
        "\n",
        "# 🎯 Phase 5: Final Testing & Evaluation\n",
        "# Purpose: Evaluate trained IDGCN on unseen test set and export key results\n",
        "\n",
        "\n",
        "**Key Steps in This Phase:**\n",
        "\n",
        "1. 🧪 Run inference on test_loader\n",
        "2. 📊 Compute and print test MAE, RMSE\n",
        "3. 💾 Save model checkpoint (optional)\n",
        "4. 📤 Export metrics/logs to CSV or upload to WandB\n",
        "5. 📈 (Optional) Visualize predictions vs ground truth\n",
        "\n",
        "This phase helps verify real-world performance on unseen data.\n",
        "\n"
      ]
    },
    {
      "cell_type": "code",
      "execution_count": 27,
      "metadata": {
        "colab": {
          "base_uri": "https://localhost:8080/"
        },
        "id": "1ZhpC0RZe1s6",
        "outputId": "44dd0a2b-20ba-4fab-afe5-384122cfa873"
      },
      "outputs": [
        {
          "output_type": "stream",
          "name": "stdout",
          "text": [
            "✅ Trained model (with attention) successfully reloaded.\n"
          ]
        }
      ],
      "source": [
        "# ----------------------------\n",
        "# 💾 Phase 5 — Step 1: Reload Trained Model with Attention\n",
        "# Purpose: Load the saved checkpoint weights into the IDGCN model\n",
        "# ----------------------------\n",
        "\n",
        "model = IDGCN(num_nodes=207,\n",
        "              input_len=12,\n",
        "              output_len=3,\n",
        "              hidden_dim=64,\n",
        "              edge_index=edge_index,\n",
        "              edge_weight=edge_weight,\n",
        "              use_attention=True)  # ✅ Required for Phase 6\n",
        "\n",
        "model = model.to(device)\n",
        "\n",
        "# 📦 Load correct file (fix path case)\n",
        "checkpoint_path = \"experiments/IDGCN_final.pth\"  # ✅ Correct!\n",
        "model.load_state_dict(torch.load(checkpoint_path, map_location=device))\n",
        "\n",
        "model.eval()\n",
        "\n",
        "print(\"✅ Trained model (with attention) successfully reloaded.\")\n",
        "\n"
      ]
    },
    {
      "cell_type": "code",
      "execution_count": 28,
      "metadata": {
        "id": "Wrcl6I5HxatF"
      },
      "outputs": [],
      "source": [
        "# ----------------------------\n",
        "# 🧪 Step 2: Define evaluate_test_set()\n",
        "# Purpose: Evaluate model on unseen test set (test_loader)\n",
        "# ----------------------------\n",
        "\n",
        "from sklearn.metrics import mean_absolute_error, mean_squared_error\n",
        "import math\n",
        "\n",
        "def evaluate_test_set(model, dataloader, device):\n",
        "    model.eval()\n",
        "    preds_all = []\n",
        "    labels_all = []\n",
        "\n",
        "    with torch.no_grad():\n",
        "        for X_batch, Y_batch in dataloader:\n",
        "            X_batch = X_batch.to(device)\n",
        "            Y_batch = Y_batch.to(device)\n",
        "\n",
        "            preds = model(X_batch)\n",
        "\n",
        "            # Move back to CPU for metric calculation\n",
        "            preds_all.append(preds.cpu().numpy())\n",
        "            labels_all.append(Y_batch.cpu().numpy())\n",
        "\n",
        "    # Concatenate and compute metrics\n",
        "    preds_all = np.concatenate(preds_all, axis=0)\n",
        "    labels_all = np.concatenate(labels_all, axis=0)\n",
        "\n",
        "    mae = mean_absolute_error(labels_all.flatten(), preds_all.flatten())\n",
        "    rmse = math.sqrt(mean_squared_error(labels_all.flatten(), preds_all.flatten()))\n",
        "\n",
        "    return mae, rmse\n"
      ]
    },
    {
      "cell_type": "code",
      "execution_count": 29,
      "metadata": {
        "colab": {
          "base_uri": "https://localhost:8080/"
        },
        "id": "tc_iuF5mxuvx",
        "outputId": "c97556cc-63a3-49d6-b966-197c18dab475"
      },
      "outputs": [
        {
          "output_type": "stream",
          "name": "stdout",
          "text": [
            "📊 Final Test MAE  : 0.9478\n",
            "📊 Final Test RMSE : 1.2923\n"
          ]
        }
      ],
      "source": [
        "# ----------------------------\n",
        "# 📊 Step 3: Evaluate on Test Set\n",
        "# Purpose: Final model performance on unseen test data\n",
        "# ----------------------------\n",
        "\n",
        "# Evaluate\n",
        "test_mae, test_rmse = evaluate_test_set(model, test_loader, device)\n",
        "\n",
        "# Print results\n",
        "print(f\"📊 Final Test MAE  : {test_mae:.4f}\")\n",
        "print(f\"📊 Final Test RMSE : {test_rmse:.4f}\")\n"
      ]
    },
    {
      "cell_type": "markdown",
      "metadata": {
        "id": "28hkPzi2-X6O"
      },
      "source": [
        "# 🚀 Phase 5-B Upgrade IDGCN with Temporal Attention\n",
        "# Purpose: Improve model accuracy & interpretability via attention over time steps\n",
        "\n",
        "This phase enhances the temporal modeling of IDGCN by replacing the GRU module with a **Temporal Attention** mechanism.\n",
        "**Goals:**\n",
        "- 🎯 Improve predictive accuracy on complex temporal patterns\n",
        "- 🧠 Increase interpretability by highlighting important time steps\n",
        "**Key Steps in This Phase:**\n",
        "1. 🔧 Define `TemporalAttention` block\n",
        "2. 🧱 Integrate attention into `IDGCN` as an optional module\n",
        "3. 🧪 Run forward pass to confirm shape\n",
        "4. 🏋️ Retrain model and re-evaluate\n"
      ]
    },
    {
      "cell_type": "code",
      "execution_count": 30,
      "metadata": {
        "colab": {
          "base_uri": "https://localhost:8080/"
        },
        "id": "nuaFdCRu6kwz",
        "outputId": "64640bf4-ba12-4aa1-8692-db99ac2da91a"
      },
      "outputs": [
        {
          "output_type": "stream",
          "name": "stdout",
          "text": [
            "🧪 Final Test Loss (with Temporal Attention): 1.6612\n"
          ]
        }
      ],
      "source": [
        "# ----------------------------\n",
        "# 🧪 Step 1: Evaluate Upgraded IDGCN on Test Set\n",
        "# Purpose: Measure generalization performance of attention-enhanced model\n",
        "# ----------------------------\n",
        "\n",
        "test_loss = evaluate_model(model, test_loader, loss_fn, edge_index, edge_weight, device)\n",
        "print(f\"🧪 Final Test Loss (with Temporal Attention): {test_loss:.4f}\")\n"
      ]
    },
    {
      "cell_type": "code",
      "execution_count": 31,
      "metadata": {
        "colab": {
          "base_uri": "https://localhost:8080/"
        },
        "id": "5jNTPZp5x4cR",
        "outputId": "f528bd61-97a7-490e-ee20-a831aa0c42c1"
      },
      "outputs": [
        {
          "output_type": "stream",
          "name": "stdout",
          "text": [
            "✅ Model checkpoint saved to: experiments/checkpoints/idgcn_final_model.pth\n"
          ]
        }
      ],
      "source": [
        "# ----------------------------\n",
        "# 💾 Step 2: Save Model Checkpoint\n",
        "# Purpose: Store the final trained model weights\n",
        "# ----------------------------\n",
        "\n",
        "os.makedirs(\"experiments/checkpoints\", exist_ok=True)\n",
        "checkpoint_path = \"experiments/checkpoints/idgcn_final_model.pth\"\n",
        "torch.save(model.state_dict(), checkpoint_path)\n",
        "\n",
        "print(f\"✅ Model checkpoint saved to: {checkpoint_path}\")\n"
      ]
    },
    {
      "cell_type": "code",
      "execution_count": 32,
      "metadata": {
        "colab": {
          "base_uri": "https://localhost:8080/"
        },
        "id": "n1UHkz2xydg6",
        "outputId": "6873fba0-cd28-4364-d47b-60f863e8d18e"
      },
      "outputs": [
        {
          "output_type": "stream",
          "name": "stdout",
          "text": [
            "✅ Training log exported to: experiments/training_log.csv\n"
          ]
        }
      ],
      "source": [
        "# 📤 Step 3: Export Training Logs to CSV\n",
        "# Purpose: Save all per-epoch metrics to local file for reproducibility\n",
        "\n",
        "import csv\n",
        "import os\n",
        "\n",
        "log_dir = \"experiments/\"\n",
        "os.makedirs(log_dir, exist_ok=True)\n",
        "log_file_path = os.path.join(log_dir, \"training_log.csv\")\n",
        "\n",
        "with open(log_file_path, mode='w', newline='') as f:\n",
        "    writer = csv.writer(f)\n",
        "    writer.writerow([\"Epoch\", \"Train Loss\", \"Val Loss\"])\n",
        "    for row in epoch_logs:\n",
        "        writer.writerow(row)\n",
        "\n",
        "print(f\"✅ Training log exported to: {log_file_path}\")\n"
      ]
    },
    {
      "cell_type": "code",
      "execution_count": 33,
      "metadata": {
        "colab": {
          "base_uri": "https://localhost:8080/"
        },
        "id": "dnkoe-Gu0c-5",
        "outputId": "3da08e9f-4940-4612-fe2f-19e9874f3144"
      },
      "outputs": [
        {
          "output_type": "stream",
          "name": "stdout",
          "text": [
            "✅ Final model weights saved to: experiments/IDGCN_final.pth\n"
          ]
        }
      ],
      "source": [
        "# ----------------------------\n",
        "# 💾 Step 4: Save Final Trained Model\n",
        "# Purpose: Save final weights in a clean central location\n",
        "# ----------------------------\n",
        "\n",
        "model_save_path = \"experiments/IDGCN_final.pth\"\n",
        "torch.save(model.state_dict(), model_save_path)\n",
        "print(f\"✅ Final model weights saved to: {model_save_path}\")\n",
        "\n",
        "\n"
      ]
    },
    {
      "cell_type": "code",
      "execution_count": 34,
      "metadata": {
        "colab": {
          "base_uri": "https://localhost:8080/",
          "height": 457
        },
        "id": "1URys8xT0ttq",
        "outputId": "7b4aa57c-5b8a-4414-a7f0-f26ed754f5f0"
      },
      "outputs": [
        {
          "output_type": "display_data",
          "data": {
            "text/plain": [
              "<Figure size 800x500 with 1 Axes>"
            ],
            "image/png": "[encoded data removed]"
          },
          "metadata": {}
        },
        {
          "output_type": "stream",
          "name": "stdout",
          "text": [
            "✅ Loss curve saved to: experiments/loss_curve.png\n"
          ]
        }
      ],
      "source": [
        "# ----------------------------\n",
        "# 📈 Step 5: Plot training vs validation loss\n",
        "# Purpose: Visualize model convergence and performance trends\n",
        "# ----------------------------\n",
        "\n",
        "import matplotlib.pyplot as plt\n",
        "\n",
        "# Extract values\n",
        "epochs = list(range(1, len(epoch_logs) + 1))\n",
        "train_losses = [log[1] for log in epoch_logs]\n",
        "val_losses = [log[2] for log in epoch_logs]\n",
        "\n",
        "# Plot\n",
        "plt.figure(figsize=(8, 5))\n",
        "plt.plot(epochs, train_losses, label='Train Loss', marker='o')\n",
        "plt.plot(epochs, val_losses, label='Val Loss', marker='s')\n",
        "plt.title(\"📉 Training vs Validation Loss\")\n",
        "plt.xlabel(\"Epoch\")\n",
        "plt.ylabel(\"Loss\")\n",
        "plt.legend()\n",
        "plt.grid(True)\n",
        "\n",
        "# Save to experiments/\n",
        "plot_path = \"experiments/loss_curve.png\"\n",
        "plt.savefig(plot_path)\n",
        "plt.show()\n",
        "\n",
        "print(f\"✅ Loss curve saved to: {plot_path}\")\n"
      ]
    },
    {
      "cell_type": "markdown",
      "metadata": {
        "id": "Ko2WnzvoBvTu"
      },
      "source": [
        "# ----------------------------\n",
        "🔮 Phase 6: Visualization & Interpretability\n",
        "# Purpose: Understand **how** IDGCN makes predictions by visualizing learned temporal attention & saliency\n",
        "# ----------------------------\n",
        "**Goals in this Phase:**\n",
        "1. 🎯 Visualize attention weights over time (if TemporalAttention is used)\n",
        "2. 🧠 Understand which time steps and nodes influence predictions\n",
        "3. 📊 Generate plots to support model interpretability\n",
        "4. 🧾 Prepare evidence for high-venue publications (e.g., IEEE T-ITS)\n",
        "\n",
        "This phase validates the model’s transparency and highlights your novel contribution in **built-in explainability**.\n"
      ]
    },
    {
      "cell_type": "code",
      "execution_count": 35,
      "metadata": {
        "colab": {
          "base_uri": "https://localhost:8080/",
          "height": 356
        },
        "id": "8ELwINmkB0G9",
        "outputId": "5840bda0-13bb-4b33-bea9-0e087dca2c30"
      },
      "outputs": [
        {
          "output_type": "error",
          "ename": "RuntimeError",
          "evalue": "mat1 and mat2 shapes cannot be multiplied (12x207 and 64x64)",
          "traceback": [
            "\u001b[0;31m---------------------------------------------------------------------------\u001b[0m",
            "\u001b[0;31mRuntimeError\u001b[0m                              Traceback (most recent call last)",
            "\u001b[0;32m/tmp/ipython-input-35-1155824591.py\u001b[0m in \u001b[0;36m<cell line: 0>\u001b[0;34m()\u001b[0m\n\u001b[1;32m     45\u001b[0m \u001b[0;34m\u001b[0m\u001b[0m\n\u001b[1;32m     46\u001b[0m \u001b[0;31m# 🧠 Visualize attention weights\u001b[0m\u001b[0;34m\u001b[0m\u001b[0;34m\u001b[0m\u001b[0m\n\u001b[0;32m---> 47\u001b[0;31m \u001b[0mvisualize_temporal_attention\u001b[0m\u001b[0;34m(\u001b[0m\u001b[0mmodel\u001b[0m\u001b[0;34m,\u001b[0m \u001b[0msample_input\u001b[0m\u001b[0;34m,\u001b[0m \u001b[0mnode_idx\u001b[0m\u001b[0;34m=\u001b[0m\u001b[0;36m0\u001b[0m\u001b[0;34m)\u001b[0m\u001b[0;34m\u001b[0m\u001b[0;34m\u001b[0m\u001b[0m\n\u001b[0m",
            "\u001b[0;32m/tmp/ipython-input-35-1155824591.py\u001b[0m in \u001b[0;36mvisualize_temporal_attention\u001b[0;34m(model, sample_input, node_idx)\u001b[0m\n\u001b[1;32m     21\u001b[0m         \u001b[0;31m# ✅ Check that model uses TemporalAttention and extract scores\u001b[0m\u001b[0;34m\u001b[0m\u001b[0;34m\u001b[0m\u001b[0m\n\u001b[1;32m     22\u001b[0m         \u001b[0;32mif\u001b[0m \u001b[0mhasattr\u001b[0m\u001b[0;34m(\u001b[0m\u001b[0mmodel\u001b[0m\u001b[0;34m,\u001b[0m \u001b[0;34m'temporal'\u001b[0m\u001b[0;34m)\u001b[0m \u001b[0;32mand\u001b[0m \u001b[0misinstance\u001b[0m\u001b[0;34m(\u001b[0m\u001b[0mmodel\u001b[0m\u001b[0;34m.\u001b[0m\u001b[0mtemporal\u001b[0m\u001b[0;34m,\u001b[0m \u001b[0mTemporalAttention\u001b[0m\u001b[0;34m)\u001b[0m\u001b[0;34m:\u001b[0m\u001b[0;34m\u001b[0m\u001b[0;34m\u001b[0m\u001b[0m\n\u001b[0;32m---> 23\u001b[0;31m             \u001b[0mattn_weights\u001b[0m \u001b[0;34m=\u001b[0m \u001b[0mmodel\u001b[0m\u001b[0;34m.\u001b[0m\u001b[0mtemporal\u001b[0m\u001b[0;34m(\u001b[0m\u001b[0msample_input\u001b[0m\u001b[0;34m)\u001b[0m  \u001b[0;31m# Shape: [1, T, 1]\u001b[0m\u001b[0;34m\u001b[0m\u001b[0;34m\u001b[0m\u001b[0m\n\u001b[0m\u001b[1;32m     24\u001b[0m             \u001b[0mattn_scores\u001b[0m \u001b[0;34m=\u001b[0m \u001b[0mattn_weights\u001b[0m\u001b[0;34m.\u001b[0m\u001b[0msqueeze\u001b[0m\u001b[0;34m(\u001b[0m\u001b[0;34m-\u001b[0m\u001b[0;36m1\u001b[0m\u001b[0;34m)\u001b[0m\u001b[0;34m.\u001b[0m\u001b[0msqueeze\u001b[0m\u001b[0;34m(\u001b[0m\u001b[0;36m0\u001b[0m\u001b[0;34m)\u001b[0m\u001b[0;34m.\u001b[0m\u001b[0mcpu\u001b[0m\u001b[0;34m(\u001b[0m\u001b[0;34m)\u001b[0m\u001b[0;34m.\u001b[0m\u001b[0mnumpy\u001b[0m\u001b[0;34m(\u001b[0m\u001b[0;34m)\u001b[0m  \u001b[0;31m# Shape: [T]\u001b[0m\u001b[0;34m\u001b[0m\u001b[0;34m\u001b[0m\u001b[0m\n\u001b[1;32m     25\u001b[0m         \u001b[0;32melse\u001b[0m\u001b[0;34m:\u001b[0m\u001b[0;34m\u001b[0m\u001b[0;34m\u001b[0m\u001b[0m\n",
            "\u001b[0;32m/usr/local/lib/python3.11/dist-packages/torch/nn/modules/module.py\u001b[0m in \u001b[0;36m_wrapped_call_impl\u001b[0;34m(self, *args, **kwargs)\u001b[0m\n\u001b[1;32m   1737\u001b[0m             \u001b[0;32mreturn\u001b[0m \u001b[0mself\u001b[0m\u001b[0;34m.\u001b[0m\u001b[0m_compiled_call_impl\u001b[0m\u001b[0;34m(\u001b[0m\u001b[0;34m*\u001b[0m\u001b[0margs\u001b[0m\u001b[0;34m,\u001b[0m \u001b[0;34m**\u001b[0m\u001b[0mkwargs\u001b[0m\u001b[0;34m)\u001b[0m  \u001b[0;31m# type: ignore[misc]\u001b[0m\u001b[0;34m\u001b[0m\u001b[0;34m\u001b[0m\u001b[0m\n\u001b[1;32m   1738\u001b[0m         \u001b[0;32melse\u001b[0m\u001b[0;34m:\u001b[0m\u001b[0;34m\u001b[0m\u001b[0;34m\u001b[0m\u001b[0m\n\u001b[0;32m-> 1739\u001b[0;31m             \u001b[0;32mreturn\u001b[0m \u001b[0mself\u001b[0m\u001b[0;34m.\u001b[0m\u001b[0m_call_impl\u001b[0m\u001b[0;34m(\u001b[0m\u001b[0;34m*\u001b[0m\u001b[0margs\u001b[0m\u001b[0;34m,\u001b[0m \u001b[0;34m**\u001b[0m\u001b[0mkwargs\u001b[0m\u001b[0;34m)\u001b[0m\u001b[0;34m\u001b[0m\u001b[0;34m\u001b[0m\u001b[0m\n\u001b[0m\u001b[1;32m   1740\u001b[0m \u001b[0;34m\u001b[0m\u001b[0m\n\u001b[1;32m   1741\u001b[0m     \u001b[0;31m# torchrec tests the code consistency with the following code\u001b[0m\u001b[0;34m\u001b[0m\u001b[0;34m\u001b[0m\u001b[0m\n",
            "\u001b[0;32m/usr/local/lib/python3.11/dist-packages/torch/nn/modules/module.py\u001b[0m in \u001b[0;36m_call_impl\u001b[0;34m(self, *args, **kwargs)\u001b[0m\n\u001b[1;32m   1748\u001b[0m                 \u001b[0;32mor\u001b[0m \u001b[0m_global_backward_pre_hooks\u001b[0m \u001b[0;32mor\u001b[0m \u001b[0m_global_backward_hooks\u001b[0m\u001b[0;34m\u001b[0m\u001b[0;34m\u001b[0m\u001b[0m\n\u001b[1;32m   1749\u001b[0m                 or _global_forward_hooks or _global_forward_pre_hooks):\n\u001b[0;32m-> 1750\u001b[0;31m             \u001b[0;32mreturn\u001b[0m \u001b[0mforward_call\u001b[0m\u001b[0;34m(\u001b[0m\u001b[0;34m*\u001b[0m\u001b[0margs\u001b[0m\u001b[0;34m,\u001b[0m \u001b[0;34m**\u001b[0m\u001b[0mkwargs\u001b[0m\u001b[0;34m)\u001b[0m\u001b[0;34m\u001b[0m\u001b[0;34m\u001b[0m\u001b[0m\n\u001b[0m\u001b[1;32m   1751\u001b[0m \u001b[0;34m\u001b[0m\u001b[0m\n\u001b[1;32m   1752\u001b[0m         \u001b[0mresult\u001b[0m \u001b[0;34m=\u001b[0m \u001b[0;32mNone\u001b[0m\u001b[0;34m\u001b[0m\u001b[0;34m\u001b[0m\u001b[0m\n",
            "\u001b[0;32m/tmp/ipython-input-15-595837215.py\u001b[0m in \u001b[0;36mforward\u001b[0;34m(self, x)\u001b[0m\n\u001b[1;32m     18\u001b[0m     \u001b[0;32mdef\u001b[0m \u001b[0mforward\u001b[0m\u001b[0;34m(\u001b[0m\u001b[0mself\u001b[0m\u001b[0;34m,\u001b[0m \u001b[0mx\u001b[0m\u001b[0;34m)\u001b[0m\u001b[0;34m:\u001b[0m\u001b[0;34m\u001b[0m\u001b[0;34m\u001b[0m\u001b[0m\n\u001b[1;32m     19\u001b[0m         \u001b[0;31m# x: [B*N, T, hidden_dim]\u001b[0m\u001b[0;34m\u001b[0m\u001b[0;34m\u001b[0m\u001b[0m\n\u001b[0;32m---> 20\u001b[0;31m         \u001b[0mQ\u001b[0m \u001b[0;34m=\u001b[0m \u001b[0mself\u001b[0m\u001b[0;34m.\u001b[0m\u001b[0mquery_proj\u001b[0m\u001b[0;34m(\u001b[0m\u001b[0mx\u001b[0m\u001b[0;34m)\u001b[0m  \u001b[0;31m# [B*N, T, H]\u001b[0m\u001b[0;34m\u001b[0m\u001b[0;34m\u001b[0m\u001b[0m\n\u001b[0m\u001b[1;32m     21\u001b[0m         \u001b[0mK\u001b[0m \u001b[0;34m=\u001b[0m \u001b[0mself\u001b[0m\u001b[0;34m.\u001b[0m\u001b[0mkey_proj\u001b[0m\u001b[0;34m(\u001b[0m\u001b[0mx\u001b[0m\u001b[0;34m)\u001b[0m    \u001b[0;31m# [B*N, T, H]\u001b[0m\u001b[0;34m\u001b[0m\u001b[0;34m\u001b[0m\u001b[0m\n\u001b[1;32m     22\u001b[0m         \u001b[0mV\u001b[0m \u001b[0;34m=\u001b[0m \u001b[0mself\u001b[0m\u001b[0;34m.\u001b[0m\u001b[0mvalue_proj\u001b[0m\u001b[0;34m(\u001b[0m\u001b[0mx\u001b[0m\u001b[0;34m)\u001b[0m  \u001b[0;31m# [B*N, T, H]\u001b[0m\u001b[0;34m\u001b[0m\u001b[0;34m\u001b[0m\u001b[0m\n",
            "\u001b[0;32m/usr/local/lib/python3.11/dist-packages/torch/nn/modules/module.py\u001b[0m in \u001b[0;36m_wrapped_call_impl\u001b[0;34m(self, *args, **kwargs)\u001b[0m\n\u001b[1;32m   1737\u001b[0m             \u001b[0;32mreturn\u001b[0m \u001b[0mself\u001b[0m\u001b[0;34m.\u001b[0m\u001b[0m_compiled_call_impl\u001b[0m\u001b[0;34m(\u001b[0m\u001b[0;34m*\u001b[0m\u001b[0margs\u001b[0m\u001b[0;34m,\u001b[0m \u001b[0;34m**\u001b[0m\u001b[0mkwargs\u001b[0m\u001b[0;34m)\u001b[0m  \u001b[0;31m# type: ignore[misc]\u001b[0m\u001b[0;34m\u001b[0m\u001b[0;34m\u001b[0m\u001b[0m\n\u001b[1;32m   1738\u001b[0m         \u001b[0;32melse\u001b[0m\u001b[0;34m:\u001b[0m\u001b[0;34m\u001b[0m\u001b[0;34m\u001b[0m\u001b[0m\n\u001b[0;32m-> 1739\u001b[0;31m             \u001b[0;32mreturn\u001b[0m \u001b[0mself\u001b[0m\u001b[0;34m.\u001b[0m\u001b[0m_call_impl\u001b[0m\u001b[0;34m(\u001b[0m\u001b[0;34m*\u001b[0m\u001b[0margs\u001b[0m\u001b[0;34m,\u001b[0m \u001b[0;34m**\u001b[0m\u001b[0mkwargs\u001b[0m\u001b[0;34m)\u001b[0m\u001b[0;34m\u001b[0m\u001b[0;34m\u001b[0m\u001b[0m\n\u001b[0m\u001b[1;32m   1740\u001b[0m \u001b[0;34m\u001b[0m\u001b[0m\n\u001b[1;32m   1741\u001b[0m     \u001b[0;31m# torchrec tests the code consistency with the following code\u001b[0m\u001b[0;34m\u001b[0m\u001b[0;34m\u001b[0m\u001b[0m\n",
            "\u001b[0;32m/usr/local/lib/python3.11/dist-packages/torch/nn/modules/module.py\u001b[0m in \u001b[0;36m_call_impl\u001b[0;34m(self, *args, **kwargs)\u001b[0m\n\u001b[1;32m   1748\u001b[0m                 \u001b[0;32mor\u001b[0m \u001b[0m_global_backward_pre_hooks\u001b[0m \u001b[0;32mor\u001b[0m \u001b[0m_global_backward_hooks\u001b[0m\u001b[0;34m\u001b[0m\u001b[0;34m\u001b[0m\u001b[0m\n\u001b[1;32m   1749\u001b[0m                 or _global_forward_hooks or _global_forward_pre_hooks):\n\u001b[0;32m-> 1750\u001b[0;31m             \u001b[0;32mreturn\u001b[0m \u001b[0mforward_call\u001b[0m\u001b[0;34m(\u001b[0m\u001b[0;34m*\u001b[0m\u001b[0margs\u001b[0m\u001b[0;34m,\u001b[0m \u001b[0;34m**\u001b[0m\u001b[0mkwargs\u001b[0m\u001b[0;34m)\u001b[0m\u001b[0;34m\u001b[0m\u001b[0;34m\u001b[0m\u001b[0m\n\u001b[0m\u001b[1;32m   1751\u001b[0m \u001b[0;34m\u001b[0m\u001b[0m\n\u001b[1;32m   1752\u001b[0m         \u001b[0mresult\u001b[0m \u001b[0;34m=\u001b[0m \u001b[0;32mNone\u001b[0m\u001b[0;34m\u001b[0m\u001b[0;34m\u001b[0m\u001b[0m\n",
            "\u001b[0;32m/usr/local/lib/python3.11/dist-packages/torch/nn/modules/linear.py\u001b[0m in \u001b[0;36mforward\u001b[0;34m(self, input)\u001b[0m\n\u001b[1;32m    123\u001b[0m \u001b[0;34m\u001b[0m\u001b[0m\n\u001b[1;32m    124\u001b[0m     \u001b[0;32mdef\u001b[0m \u001b[0mforward\u001b[0m\u001b[0;34m(\u001b[0m\u001b[0mself\u001b[0m\u001b[0;34m,\u001b[0m \u001b[0minput\u001b[0m\u001b[0;34m:\u001b[0m \u001b[0mTensor\u001b[0m\u001b[0;34m)\u001b[0m \u001b[0;34m->\u001b[0m \u001b[0mTensor\u001b[0m\u001b[0;34m:\u001b[0m\u001b[0;34m\u001b[0m\u001b[0;34m\u001b[0m\u001b[0m\n\u001b[0;32m--> 125\u001b[0;31m         \u001b[0;32mreturn\u001b[0m \u001b[0mF\u001b[0m\u001b[0;34m.\u001b[0m\u001b[0mlinear\u001b[0m\u001b[0;34m(\u001b[0m\u001b[0minput\u001b[0m\u001b[0;34m,\u001b[0m \u001b[0mself\u001b[0m\u001b[0;34m.\u001b[0m\u001b[0mweight\u001b[0m\u001b[0;34m,\u001b[0m \u001b[0mself\u001b[0m\u001b[0;34m.\u001b[0m\u001b[0mbias\u001b[0m\u001b[0;34m)\u001b[0m\u001b[0;34m\u001b[0m\u001b[0;34m\u001b[0m\u001b[0m\n\u001b[0m\u001b[1;32m    126\u001b[0m \u001b[0;34m\u001b[0m\u001b[0m\n\u001b[1;32m    127\u001b[0m     \u001b[0;32mdef\u001b[0m \u001b[0mextra_repr\u001b[0m\u001b[0;34m(\u001b[0m\u001b[0mself\u001b[0m\u001b[0;34m)\u001b[0m \u001b[0;34m->\u001b[0m \u001b[0mstr\u001b[0m\u001b[0;34m:\u001b[0m\u001b[0;34m\u001b[0m\u001b[0;34m\u001b[0m\u001b[0m\n",
            "\u001b[0;31mRuntimeError\u001b[0m: mat1 and mat2 shapes cannot be multiplied (12x207 and 64x64)"
          ]
        }
      ],
      "source": [
        "# ----------------------------\n",
        "# 🪄 Step 1: Visualize Temporal Attention Weights\n",
        "# Purpose: Interpret model focus over time steps per node\n",
        "# ----------------------------\n",
        "\n",
        "import matplotlib.pyplot as plt\n",
        "\n",
        "def visualize_temporal_attention(model, sample_input, node_idx=0):\n",
        "    \"\"\"\n",
        "    Visualize attention weights for a specific node in a sample.\n",
        "    Args:\n",
        "      model: Trained IDGCN with use_attention=True\n",
        "      sample_input: Tensor of shape [1, T, N] (single sample)\n",
        "      node_idx: Which node to visualize (default = 0)\n",
        "    \"\"\"\n",
        "    model.eval()\n",
        "    with torch.no_grad():\n",
        "        # Move sample to correct device\n",
        "        sample_input = sample_input.to(device)\n",
        "\n",
        "        # ✅ Check that model uses TemporalAttention and extract scores\n",
        "        if hasattr(model, 'temporal') and isinstance(model.temporal, TemporalAttention):\n",
        "            attn_weights = model.temporal(sample_input)  # Shape: [1, T, 1]\n",
        "            attn_scores = attn_weights.squeeze(-1).squeeze(0).cpu().numpy()  # Shape: [T]\n",
        "        else:\n",
        "            print(\"⚠️ Model does not use a valid TemporalAttention block.\")\n",
        "            return\n",
        "\n",
        "        # Normalize for visualization\n",
        "        attn_scores = attn_scores / attn_scores.sum()\n",
        "\n",
        "        # Plot attention weights\n",
        "        plt.figure(figsize=(8, 4))\n",
        "        plt.bar(range(len(attn_scores)), attn_scores, color='salmon')\n",
        "        plt.title(f\"⏱ Temporal Attention Weights for Node {node_idx}\")\n",
        "        plt.xlabel(\"Time Step\")\n",
        "        plt.ylabel(\"Attention Weight\")\n",
        "        plt.grid(True)\n",
        "        plt.show()\n",
        "\n",
        "# ✅ Prepare a test sample for visualization\n",
        "# One test sample: shape = [1, 12, 207]\n",
        "sample_input, _ = next(iter(test_loader))\n",
        "sample_input = sample_input[:1]  # Take the first sample\n",
        "\n",
        "# 🧠 Visualize attention weights\n",
        "visualize_temporal_attention(model, sample_input, node_idx=0)\n"
      ]
    }
  ],
  "metadata": {
    "accelerator": "GPU",
    "colab": {
      "gpuType": "T4",
      "provenance": [],
      "authorship_tag": "ABX9TyPKV4gAza42DjJSb0qmin2U",
      "include_colab_link": true
    },
    "kernelspec": {
      "display_name": "Python 3",
      "name": "python3"
    },
    "language_info": {
      "name": "python"
    }
  },
  "nbformat": 4,
  "nbformat_minor": 0
}